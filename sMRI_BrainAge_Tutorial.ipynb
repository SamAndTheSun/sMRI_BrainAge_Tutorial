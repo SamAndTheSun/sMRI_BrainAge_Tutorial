{
  "cells": [
    {
      "cell_type": "markdown",
      "source": [
        "Install relevant packages and modules."
      ],
      "metadata": {
        "id": "4gQwv5-hCTXH"
      }
    },
    {
      "cell_type": "code",
      "execution_count": 3,
      "metadata": {
        "vscode": {
          "languageId": "plaintext"
        },
        "colab": {
          "base_uri": "https://localhost:8080/"
        },
        "id": "oplxB4HUhJS7",
        "outputId": "5f470949-d947-4491-fc8b-9107733edcb7"
      },
      "outputs": [
        {
          "output_type": "stream",
          "name": "stdout",
          "text": [
            "Reading package lists... Done\n",
            "Building dependency tree... Done\n",
            "Reading state information... Done\n",
            "dcm2niix is already the newest version (1.0.20211006-1build1).\n",
            "0 upgraded, 0 newly installed, 0 to remove and 49 not upgraded.\n",
            "Reading package lists... Done\n",
            "Building dependency tree... Done\n",
            "Reading state information... Done\n",
            "parallel is already the newest version (20210822+ds-2).\n",
            "0 upgraded, 0 newly installed, 0 to remove and 49 not upgraded.\n",
            "Reading package lists... Done\n",
            "Building dependency tree... Done\n",
            "Reading state information... Done\n",
            "wget is already the newest version (1.21.2-2ubuntu1.1).\n",
            "0 upgraded, 0 newly installed, 0 to remove and 49 not upgraded.\n",
            "Reading package lists... Done\n",
            "Building dependency tree... Done\n",
            "Reading state information... Done\n",
            "grep is already the newest version (3.7-1build1).\n",
            "0 upgraded, 0 newly installed, 0 to remove and 49 not upgraded.\n",
            "Reading package lists... Done\n",
            "Building dependency tree... Done\n",
            "Reading state information... Done\n",
            "tcsh is already the newest version (6.21.00-1.1).\n",
            "0 upgraded, 0 newly installed, 0 to remove and 49 not upgraded.\n",
            "Reading package lists... Done\n",
            "Building dependency tree... Done\n",
            "Reading state information... Done\n",
            "bc is already the newest version (1.07.1-3build1).\n",
            "0 upgraded, 0 newly installed, 0 to remove and 49 not upgraded.\n",
            "Requirement already satisfied: nibabel in /usr/local/lib/python3.10/dist-packages (5.3.2)\n",
            "Requirement already satisfied: importlib-resources>=5.12 in /usr/local/lib/python3.10/dist-packages (from nibabel) (6.5.2)\n",
            "Requirement already satisfied: numpy>=1.22 in /usr/local/lib/python3.10/dist-packages (from nibabel) (1.26.4)\n",
            "Requirement already satisfied: packaging>=20 in /usr/local/lib/python3.10/dist-packages (from nibabel) (24.2)\n",
            "Requirement already satisfied: typing-extensions>=4.6 in /usr/local/lib/python3.10/dist-packages (from nibabel) (4.12.2)\n",
            "Traceback (most recent call last):\n",
            "  File \"/usr/local/lib/python3.10/dist-packages/pip/_vendor/pkg_resources/__init__.py\", line 3070, in _dep_map\n",
            "    return self.__dep_map\n",
            "  File \"/usr/local/lib/python3.10/dist-packages/pip/_vendor/pkg_resources/__init__.py\", line 2863, in __getattr__\n",
            "    raise AttributeError(attr)\n",
            "AttributeError: _DistInfoDistribution__dep_map\n",
            "\n",
            "During handling of the above exception, another exception occurred:\n",
            "\n",
            "Traceback (most recent call last):\n",
            "  File \"/usr/local/lib/python3.10/dist-packages/pip/_internal/cli/base_command.py\", line 179, in exc_logging_wrapper\n",
            "    status = run_func(*args)\n",
            "  File \"/usr/local/lib/python3.10/dist-packages/pip/_internal/cli/req_command.py\", line 67, in wrapper\n",
            "    return func(self, options, args)\n",
            "  File \"/usr/local/lib/python3.10/dist-packages/pip/_internal/commands/install.py\", line 447, in run\n",
            "    conflicts = self._determine_conflicts(to_install)\n",
            "  File \"/usr/local/lib/python3.10/dist-packages/pip/_internal/commands/install.py\", line 578, in _determine_conflicts\n",
            "    return check_install_conflicts(to_install)\n",
            "  File \"/usr/local/lib/python3.10/dist-packages/pip/_internal/operations/check.py\", line 101, in check_install_conflicts\n",
            "^C\n",
            "Requirement already satisfied: pydicom in /usr/local/lib/python3.10/dist-packages (3.0.1)\n",
            "--2025-01-13 23:18:04--  https://freesurfer.net/pub/dist/freesurfer/7.4.1/freesurfer-linux-ubuntu22_amd64-7.4.1.tar.gz\n",
            "Resolving freesurfer.net (freesurfer.net)... 132.183.1.43\n",
            "Connecting to freesurfer.net (freesurfer.net)|132.183.1.43|:443... connected.\n",
            "HTTP request sent, awaiting response... 200 OK\n",
            "Length: 9484461482 (8.8G) [application/x-gzip]\n",
            "Saving to: ‘freesurfer.tar.gz’\n",
            "\n",
            "freesurfer.tar.gz   100%[===================>]   8.83G  12.0MB/s    in 12m 46s \n",
            "\n",
            "2025-01-13 23:30:50 (11.8 MB/s) - ‘freesurfer.tar.gz’ saved [9484461482/9484461482]\n",
            "\n"
          ]
        }
      ],
      "source": [
        "!apt-get install -y dcm2niix # convert dicom files to nii\n",
        "!apt-get install -y parallel # allows for utilization of multiple cores at once. Useful for actual implementation, just for demonstration here\n",
        "\n",
        "# dependencies for freesurfer\n",
        "!apt-get install -y wget\n",
        "!apt-get install -y grep\n",
        "!apt-get install -y tcsh\n",
        "!apt-get install -y bc\n",
        "\n",
        "!pip install nibabel # helps to deal with nii data in a format which you can actually work with\n",
        "!pip install pydicom # helps with reading dycom headers, useful for scraping metadata i.e. age, sex, etc.\n",
        "\n",
        "import os\n",
        "import glob\n",
        "\n",
        "import numpy as np\n",
        "import pandas as pd\n",
        "import scipy\n",
        "\n",
        "import nibabel as nib\n",
        "import pydicom\n",
        "\n",
        "!pip install torch-geometric\n",
        "\n",
        "import torch\n",
        "import torch.nn as nn\n",
        "import torch.nn.functional as F\n",
        "\n",
        "# for the graph neural network portion\n",
        "!pip install torch-geometric\n",
        "from torch_geometric.nn import SAGEConv\n",
        "from torch_geometric.data import Data, DataLoader\n",
        "import torch.nn as nn\n",
        "\n",
        "# install freesurfer (might take a few minutes)\n",
        "\n",
        "# if you are having issues downloading freesurfer, it is likely due to the version selected here\n",
        "!wget -O freesurfer.tar.gz https://freesurfer.net/pub/dist/freesurfer/7.4.1/freesurfer-linux-ubuntu22_amd64-7.4.1.tar.gz\n",
        "!tar -xzf freesurfer.tar.gz\n",
        "\n",
        "# set the relevant freesurfer directories\n",
        "os.environ['FREESURFER_HOME'] = '/content/freesurfer'\n",
        "os.environ['SUBJECTS_DIR'] = '/content/freesurfer_output'\n",
        "os.environ['PATH'] += ':/content/freesurfer/bin'\n",
        "\n",
        "!source /content/freesurfer/SetUpFreeSurfer.sh"
      ]
    },
    {
      "cell_type": "markdown",
      "source": [
        "--------------------------------------------------------------------------------\n",
        "--------------------------------------------------------------------------------\n",
        "--------------------------------------------------------------------------------"
      ],
      "metadata": {
        "id": "kuPtZcxNB90t"
      }
    },
    {
      "cell_type": "markdown",
      "source": [
        "Add the FreeSurfer License path. This is free to get but due to their policy I cannot include it here. It is available at https://surfer.nmr.mgh.harvard.edu/registration.html."
      ],
      "metadata": {
        "id": "DeclvoFX_7RP"
      }
    },
    {
      "cell_type": "code",
      "source": [
        "from google.colab import files\n",
        "license = files.upload()\n",
        "\n",
        "# change this to what you named the license\n",
        "your_file_name = 'freesurfer_license.txt'\n",
        "\n",
        "# set the enviorment to use the license\n",
        "os.environ['FS_LICENSE'] = f'/content/{your_file_name}'"
      ],
      "metadata": {
        "colab": {
          "base_uri": "https://localhost:8080/",
          "height": 73
        },
        "id": "RpwZXNzD_6va",
        "outputId": "1d8c9313-0062-4a28-cf4e-201b28e3ca82"
      },
      "execution_count": 2,
      "outputs": [
        {
          "output_type": "display_data",
          "data": {
            "text/plain": [
              "<IPython.core.display.HTML object>"
            ],
            "text/html": [
              "\n",
              "     <input type=\"file\" id=\"files-8d6f7d5d-89d0-4c50-a18c-7d7e10651f9d\" name=\"files[]\" multiple disabled\n",
              "        style=\"border:none\" />\n",
              "     <output id=\"result-8d6f7d5d-89d0-4c50-a18c-7d7e10651f9d\">\n",
              "      Upload widget is only available when the cell has been executed in the\n",
              "      current browser session. Please rerun this cell to enable.\n",
              "      </output>\n",
              "      <script>// Copyright 2017 Google LLC\n",
              "//\n",
              "// Licensed under the Apache License, Version 2.0 (the \"License\");\n",
              "// you may not use this file except in compliance with the License.\n",
              "// You may obtain a copy of the License at\n",
              "//\n",
              "//      http://www.apache.org/licenses/LICENSE-2.0\n",
              "//\n",
              "// Unless required by applicable law or agreed to in writing, software\n",
              "// distributed under the License is distributed on an \"AS IS\" BASIS,\n",
              "// WITHOUT WARRANTIES OR CONDITIONS OF ANY KIND, either express or implied.\n",
              "// See the License for the specific language governing permissions and\n",
              "// limitations under the License.\n",
              "\n",
              "/**\n",
              " * @fileoverview Helpers for google.colab Python module.\n",
              " */\n",
              "(function(scope) {\n",
              "function span(text, styleAttributes = {}) {\n",
              "  const element = document.createElement('span');\n",
              "  element.textContent = text;\n",
              "  for (const key of Object.keys(styleAttributes)) {\n",
              "    element.style[key] = styleAttributes[key];\n",
              "  }\n",
              "  return element;\n",
              "}\n",
              "\n",
              "// Max number of bytes which will be uploaded at a time.\n",
              "const MAX_PAYLOAD_SIZE = 100 * 1024;\n",
              "\n",
              "function _uploadFiles(inputId, outputId) {\n",
              "  const steps = uploadFilesStep(inputId, outputId);\n",
              "  const outputElement = document.getElementById(outputId);\n",
              "  // Cache steps on the outputElement to make it available for the next call\n",
              "  // to uploadFilesContinue from Python.\n",
              "  outputElement.steps = steps;\n",
              "\n",
              "  return _uploadFilesContinue(outputId);\n",
              "}\n",
              "\n",
              "// This is roughly an async generator (not supported in the browser yet),\n",
              "// where there are multiple asynchronous steps and the Python side is going\n",
              "// to poll for completion of each step.\n",
              "// This uses a Promise to block the python side on completion of each step,\n",
              "// then passes the result of the previous step as the input to the next step.\n",
              "function _uploadFilesContinue(outputId) {\n",
              "  const outputElement = document.getElementById(outputId);\n",
              "  const steps = outputElement.steps;\n",
              "\n",
              "  const next = steps.next(outputElement.lastPromiseValue);\n",
              "  return Promise.resolve(next.value.promise).then((value) => {\n",
              "    // Cache the last promise value to make it available to the next\n",
              "    // step of the generator.\n",
              "    outputElement.lastPromiseValue = value;\n",
              "    return next.value.response;\n",
              "  });\n",
              "}\n",
              "\n",
              "/**\n",
              " * Generator function which is called between each async step of the upload\n",
              " * process.\n",
              " * @param {string} inputId Element ID of the input file picker element.\n",
              " * @param {string} outputId Element ID of the output display.\n",
              " * @return {!Iterable<!Object>} Iterable of next steps.\n",
              " */\n",
              "function* uploadFilesStep(inputId, outputId) {\n",
              "  const inputElement = document.getElementById(inputId);\n",
              "  inputElement.disabled = false;\n",
              "\n",
              "  const outputElement = document.getElementById(outputId);\n",
              "  outputElement.innerHTML = '';\n",
              "\n",
              "  const pickedPromise = new Promise((resolve) => {\n",
              "    inputElement.addEventListener('change', (e) => {\n",
              "      resolve(e.target.files);\n",
              "    });\n",
              "  });\n",
              "\n",
              "  const cancel = document.createElement('button');\n",
              "  inputElement.parentElement.appendChild(cancel);\n",
              "  cancel.textContent = 'Cancel upload';\n",
              "  const cancelPromise = new Promise((resolve) => {\n",
              "    cancel.onclick = () => {\n",
              "      resolve(null);\n",
              "    };\n",
              "  });\n",
              "\n",
              "  // Wait for the user to pick the files.\n",
              "  const files = yield {\n",
              "    promise: Promise.race([pickedPromise, cancelPromise]),\n",
              "    response: {\n",
              "      action: 'starting',\n",
              "    }\n",
              "  };\n",
              "\n",
              "  cancel.remove();\n",
              "\n",
              "  // Disable the input element since further picks are not allowed.\n",
              "  inputElement.disabled = true;\n",
              "\n",
              "  if (!files) {\n",
              "    return {\n",
              "      response: {\n",
              "        action: 'complete',\n",
              "      }\n",
              "    };\n",
              "  }\n",
              "\n",
              "  for (const file of files) {\n",
              "    const li = document.createElement('li');\n",
              "    li.append(span(file.name, {fontWeight: 'bold'}));\n",
              "    li.append(span(\n",
              "        `(${file.type || 'n/a'}) - ${file.size} bytes, ` +\n",
              "        `last modified: ${\n",
              "            file.lastModifiedDate ? file.lastModifiedDate.toLocaleDateString() :\n",
              "                                    'n/a'} - `));\n",
              "    const percent = span('0% done');\n",
              "    li.appendChild(percent);\n",
              "\n",
              "    outputElement.appendChild(li);\n",
              "\n",
              "    const fileDataPromise = new Promise((resolve) => {\n",
              "      const reader = new FileReader();\n",
              "      reader.onload = (e) => {\n",
              "        resolve(e.target.result);\n",
              "      };\n",
              "      reader.readAsArrayBuffer(file);\n",
              "    });\n",
              "    // Wait for the data to be ready.\n",
              "    let fileData = yield {\n",
              "      promise: fileDataPromise,\n",
              "      response: {\n",
              "        action: 'continue',\n",
              "      }\n",
              "    };\n",
              "\n",
              "    // Use a chunked sending to avoid message size limits. See b/62115660.\n",
              "    let position = 0;\n",
              "    do {\n",
              "      const length = Math.min(fileData.byteLength - position, MAX_PAYLOAD_SIZE);\n",
              "      const chunk = new Uint8Array(fileData, position, length);\n",
              "      position += length;\n",
              "\n",
              "      const base64 = btoa(String.fromCharCode.apply(null, chunk));\n",
              "      yield {\n",
              "        response: {\n",
              "          action: 'append',\n",
              "          file: file.name,\n",
              "          data: base64,\n",
              "        },\n",
              "      };\n",
              "\n",
              "      let percentDone = fileData.byteLength === 0 ?\n",
              "          100 :\n",
              "          Math.round((position / fileData.byteLength) * 100);\n",
              "      percent.textContent = `${percentDone}% done`;\n",
              "\n",
              "    } while (position < fileData.byteLength);\n",
              "  }\n",
              "\n",
              "  // All done.\n",
              "  yield {\n",
              "    response: {\n",
              "      action: 'complete',\n",
              "    }\n",
              "  };\n",
              "}\n",
              "\n",
              "scope.google = scope.google || {};\n",
              "scope.google.colab = scope.google.colab || {};\n",
              "scope.google.colab._files = {\n",
              "  _uploadFiles,\n",
              "  _uploadFilesContinue,\n",
              "};\n",
              "})(self);\n",
              "</script> "
            ]
          },
          "metadata": {}
        },
        {
          "output_type": "stream",
          "name": "stdout",
          "text": [
            "Saving freesurfer_license.txt to freesurfer_license.txt\n"
          ]
        }
      ]
    },
    {
      "cell_type": "markdown",
      "metadata": {
        "id": "xUDnBIbWhJS7"
      },
      "source": [
        "Get anonymized (T1 weighted) dicom files for analysis, and create temporary folders to store these and other files."
      ]
    },
    {
      "cell_type": "code",
      "execution_count": 4,
      "metadata": {
        "vscode": {
          "languageId": "plaintext"
        },
        "colab": {
          "base_uri": "https://localhost:8080/"
        },
        "id": "BCvkJMTKhJS7",
        "outputId": "e0882d1d-5caa-4a3a-bf04-b75a5d40129b"
      },
      "outputs": [
        {
          "output_type": "stream",
          "name": "stdout",
          "text": [
            "Cloning into 'example-dicom-structural'...\n",
            "remote: Enumerating objects: 393, done.\u001b[K\n",
            "remote: Total 393 (delta 0), reused 0 (delta 0), pack-reused 393 (from 1)\u001b[K\n",
            "Receiving objects: 100% (393/393), 15.45 MiB | 4.94 MiB/s, done.\n",
            "Resolving deltas: 100% (223/223), done.\n"
          ]
        }
      ],
      "source": [
        "# clone the repository to get the raw dicoms\n",
        "!git clone https://github.com/datalad/example-dicom-structural\n",
        "\n",
        "# create folders for the NIfTI conversions and corresponding recons\n",
        "!mkdir /content/nii_files/\n",
        "!mkdir /content/freesurfer_output/\n",
        "\n",
        "'''\n",
        "Note: \"T1 weighting\" refers to a type of MRI image which is quite good at identifying tissue.\n",
        "It is the most common form of imaging used in structural MRI.\n",
        "''';"
      ]
    },
    {
      "cell_type": "markdown",
      "metadata": {
        "id": "l6B2eC9vhJS8"
      },
      "source": [
        "Convert the DICOMs to NIfTIs."
      ]
    },
    {
      "cell_type": "code",
      "execution_count": null,
      "metadata": {
        "vscode": {
          "languageId": "plaintext"
        },
        "colab": {
          "base_uri": "https://localhost:8080/"
        },
        "id": "7y2Nu0k3hJS8",
        "outputId": "8657572a-810d-479f-efc6-5696a3c897df"
      },
      "outputs": [
        {
          "output_type": "stream",
          "name": "stdout",
          "text": [
            "Chris Rorden's dcm2niiX version v1.0.20211006  (JP2:OpenJPEG) GCC11.2.0 x86-64 (64-bit Linux)\n",
            "Found 384 DICOM file(s)\n",
            "Warning: Unable to determine manufacturer (0008,0070), so conversion is not tuned for vendor.\n",
            "Convert 384 DICOM as /content/nii_files/dicoms_anat-T1w_20130717141500_401 (274x384x384x1)\n",
            "Conversion required 0.412129 seconds (0.389445 for core code).\n"
          ]
        }
      ],
      "source": [
        "# prepare paths\n",
        "INPUT_PATH = '/content/example-dicom-structural/dicoms/'\n",
        "OUTPUT_PATH = '/content/nii_files/'\n",
        "\n",
        "# grep to ignore some warnings regarding the manufacturer (since we're using sample dicoms)\n",
        "!dcm2niix -o '{OUTPUT_PATH}' '{INPUT_PATH}' | grep -v \"Unknown manufacturer\""
      ]
    },
    {
      "cell_type": "markdown",
      "metadata": {
        "id": "LqjqjMwphJS8"
      },
      "source": [
        "Reconstruct (recon) the NIfTI files.\n"
      ]
    },
    {
      "cell_type": "markdown",
      "source": [
        "Parallel allows you to recon multiple subjects simultaneously by recruiting n CPU cores (determined by --jobs n). It is irrelevant here, but is good to be aware of. The code below uses parallel, but only for a single process (n=1), making it effectively the same as not using it."
      ],
      "metadata": {
        "id": "kyScnVlDQ2f1"
      }
    },
    {
      "cell_type": "markdown",
      "source": [
        "Recons take a long time (4 hours+ per nii) and are quite large (~100Mb). For this reason, I have included a sample finished recon within this repository, with only the essential files kept."
      ],
      "metadata": {
        "id": "rwbOU4iN-FHq"
      }
    },
    {
      "cell_type": "code",
      "source": [
        "# prepare paths\n",
        "INPUT_PATH = '/content/freesurfer_output'\n",
        "nii_paths = glob.glob('/content/nii_files/*.nii') # list of paths\n",
        "ALL_NII = ' '.join(nii_paths)  # format that parallel wants\n",
        "\n",
        "# use parallel to execute recon-all on each NIfTI file\n",
        "!parallel --jobs 1 recon-all -i {} -s {/.} -all ::: /content/nii_files/*.nii"
      ],
      "metadata": {
        "id": "xaJAqGHcy42K"
      },
      "execution_count": null,
      "outputs": []
    },
    {
      "cell_type": "markdown",
      "source": [
        "Load in the sample recon."
      ],
      "metadata": {
        "id": "t_GKYK7aOm8_"
      }
    },
    {
      "cell_type": "code",
      "source": [
        "!git clone https://github.com/SamAndTheSun/sMRI_BrainAge_Tutorial.git\n",
        "recon_path = '/content/sample_recon'"
      ],
      "metadata": {
        "id": "KWN_It_TOly_",
        "colab": {
          "base_uri": "https://localhost:8080/"
        },
        "outputId": "4b2801e6-95ab-4235-fb34-5b75d3064a9f"
      },
      "execution_count": 23,
      "outputs": [
        {
          "output_type": "stream",
          "name": "stdout",
          "text": [
            "Cloning into 'sMRI_BrainAge_Tutorial'...\n",
            "^C\n"
          ]
        }
      ]
    },
    {
      "cell_type": "markdown",
      "source": [
        "--------------------------------------------------------------------------------\n",
        "--------------------------------------------------------------------------------\n",
        "--------------------------------------------------------------------------------"
      ],
      "metadata": {
        "id": "3zH7BItfO0-M"
      }
    },
    {
      "cell_type": "markdown",
      "source": [
        "Deep Learning Analysis Example 1: CNN using brain.mgz\n"
      ],
      "metadata": {
        "id": "mqyuhNKlO2AI"
      }
    },
    {
      "cell_type": "markdown",
      "source": [
        "The brain.mgz file represents the combination of each individual \"slice\" of the brain stitched together to form a single cohesive volume. We can use this file to construct a CNN, trained on 3D images, to predict brain age."
      ],
      "metadata": {
        "id": "Zu-neU8tQBuj"
      }
    },
    {
      "cell_type": "code",
      "source": [
        "# load in the brain.mgz files\n",
        "brain_files = glob.glob('/content/*_recon')\n",
        "print(brain_files)"
      ],
      "metadata": {
        "id": "Nv8WuMLaP_Ut",
        "colab": {
          "base_uri": "https://localhost:8080/"
        },
        "outputId": "51856c8a-adf9-4920-bc6e-cb6aefc494c7"
      },
      "execution_count": 21,
      "outputs": [
        {
          "output_type": "stream",
          "name": "stdout",
          "text": [
            "[]\n"
          ]
        }
      ]
    },
    {
      "cell_type": "markdown",
      "source": [
        "First, we downsample the brain files. This isn't strictly necessary but it often helps to reduce noise and make it easier for the model the train. We then save the downsampled files as numpy files, allowing for further manipulation."
      ],
      "metadata": {
        "id": "fyKN4zfqSKtc"
      }
    },
    {
      "cell_type": "code",
      "source": [
        "# get the converted files\n",
        "for idx, subj_brain in enumerate(brain_files):\n",
        "\n",
        "    # load the mgz file in, get the volume, then downsample\n",
        "    brain_data = mgh.load(subj_brain)\n",
        "    affine_space_brain = brain_data.affine\n",
        "    vol = zoom(affine_space_brain.get_fdata(), (0.5, 0.5, 0.5))\n",
        "\n",
        "    print(vol.shape)\n",
        "\n",
        "    # save the downsampled files in numpy format\n",
        "    np.save(f\"/content/subj_{idx}\", vol)"
      ],
      "metadata": {
        "id": "Rg75MQKFSRBk"
      },
      "execution_count": 18,
      "outputs": []
    },
    {
      "cell_type": "markdown",
      "source": [
        "Now lets define a rudimentary CNN for us to train.\n"
      ],
      "metadata": {
        "id": "zf3Cfb9W-_0s"
      }
    },
    {
      "cell_type": "code",
      "source": [
        "class CNN(nn.Module):\n",
        "    def __init__(self):\n",
        "        super().__init__()\n",
        "        # Convolutional layer 1\n",
        "        self.conv1 = nn.Conv3d(1, 32, kernel_size=3, stride=1, padding=1)\n",
        "        self.pool = nn.MaxPool3d(kernel_size=2, stride=2)\n",
        "\n",
        "        # Convolutional layer 2\n",
        "        self.conv2 = nn.Conv3d(32, 64, kernel_size=3, stride=1, padding=1)\n",
        "\n",
        "        # Fully connected layer\n",
        "        self.fc1 = nn.Linear(64 * 31 * 31 * 31, 128)  # Adjust dimensions after pooling\n",
        "        self.fc2 = nn.Linear(128, 1)  # Example: 10 output classes\n",
        "\n",
        "    def forward(self, x):\n",
        "        x = F.relu(self.conv1(x))\n",
        "        x = self.pool(x)\n",
        "        x = F.relu(self.conv2(x))\n",
        "        x = self.pool(x)\n",
        "        x = x.view(x.size(0), -1)  # Flatten the tensor\n",
        "        x = F.relu(self.fc1(x))\n",
        "        x = self.fc2(x)\n",
        "        return x\n",
        "\n",
        "# Instantiate the model\n",
        "model = CNN()"
      ],
      "metadata": {
        "id": "Jw3OePht-_T5"
      },
      "execution_count": 11,
      "outputs": []
    },
    {
      "cell_type": "markdown",
      "source": [
        "Our next step is to derive our data of interest, in this case it's age, so let's generate sample age values for us to use. Sometimes demographic data will be difficult to find; I'll show one common work around in the next model example.\n",
        "\n",
        "After this, we can define our training loop."
      ],
      "metadata": {
        "id": "i1nKqIdt-pGb"
      }
    },
    {
      "cell_type": "code",
      "source": [
        "# fake data; ingenious, I know\n",
        "y = torch.tensor(49)\n",
        "\n",
        "# load in the brain files, and convert them into a single tensor\n",
        "paths = [x for x in sorted(glob.glob(\"/content/subj_*\"))]\n",
        "tensor_list = [torch.from_numpy(np.load(path)) for path in paths]\n",
        "X = torch.stack(tensor_list)\n",
        "\n",
        "'''\n",
        "note 1: glob is NOT sorted. The order of files will vary every time you use it.\n",
        "Because of this, it's important if working with numpy files containing ages, with corresponding data files,\n",
        "that you use sorted(glob.glob()) for both.\n",
        "\n",
        "note 2: if dealing with too much data to simply load it in, you can also load in small chunks of these\n",
        "numpy files, convert them, train with them, then unload these files and repeat\n",
        "'''\n",
        "\n",
        "# very important for training efficiency if you have an Nvidia GPU\n",
        "# we didn't compile torch with cuda though, so this won't do anything\n",
        "device = torch.device(\"cuda\" if torch.cuda.is_available() else \"cpu\")\n",
        "\n",
        "def train(model, dataloader, criterion, optimizer, device):\n",
        "    model.train()\n",
        "    total_loss = 0\n",
        "    correct = 0\n",
        "    total = 0\n",
        "\n",
        "    for inputs, labels in dataloader:\n",
        "        inputs, labels = inputs.to(device), labels.to(device)\n",
        "\n",
        "        optimizer.zero_grad()\n",
        "        outputs = model(inputs)\n",
        "        loss = criterion(outputs, labels)\n",
        "        loss.backward()\n",
        "        optimizer.step()\n",
        "\n",
        "        total_loss += loss.item()\n",
        "        _, predicted = torch.max(outputs, 1)\n",
        "        correct += (predicted == labels).sum().item()\n",
        "        total += labels.size(0)\n",
        "\n",
        "    return total_loss / len(dataloader), correct / total"
      ],
      "metadata": {
        "colab": {
          "base_uri": "https://localhost:8080/",
          "height": 211
        },
        "id": "O3RDAFQv_4Si",
        "outputId": "12a8df4e-b9b5-4b5a-9304-f2b14bac8fbc"
      },
      "execution_count": 26,
      "outputs": [
        {
          "output_type": "error",
          "ename": "RuntimeError",
          "evalue": "stack expects a non-empty TensorList",
          "traceback": [
            "\u001b[0;31m---------------------------------------------------------------------------\u001b[0m",
            "\u001b[0;31mRuntimeError\u001b[0m                              Traceback (most recent call last)",
            "\u001b[0;32m<ipython-input-26-89d29fe9b297>\u001b[0m in \u001b[0;36m<cell line: 7>\u001b[0;34m()\u001b[0m\n\u001b[1;32m      5\u001b[0m \u001b[0mpaths\u001b[0m \u001b[0;34m=\u001b[0m \u001b[0;34m[\u001b[0m\u001b[0mx\u001b[0m \u001b[0;32mfor\u001b[0m \u001b[0mx\u001b[0m \u001b[0;32min\u001b[0m \u001b[0msorted\u001b[0m\u001b[0;34m(\u001b[0m\u001b[0mglob\u001b[0m\u001b[0;34m.\u001b[0m\u001b[0mglob\u001b[0m\u001b[0;34m(\u001b[0m\u001b[0;34m\"/content/subj_*\"\u001b[0m\u001b[0;34m)\u001b[0m\u001b[0;34m)\u001b[0m\u001b[0;34m]\u001b[0m\u001b[0;34m\u001b[0m\u001b[0;34m\u001b[0m\u001b[0m\n\u001b[1;32m      6\u001b[0m \u001b[0mtensor_list\u001b[0m \u001b[0;34m=\u001b[0m \u001b[0;34m[\u001b[0m\u001b[0mtorch\u001b[0m\u001b[0;34m.\u001b[0m\u001b[0mfrom_numpy\u001b[0m\u001b[0;34m(\u001b[0m\u001b[0mnp\u001b[0m\u001b[0;34m.\u001b[0m\u001b[0mload\u001b[0m\u001b[0;34m(\u001b[0m\u001b[0mpath\u001b[0m\u001b[0;34m)\u001b[0m\u001b[0;34m)\u001b[0m \u001b[0;32mfor\u001b[0m \u001b[0mpath\u001b[0m \u001b[0;32min\u001b[0m \u001b[0mpaths\u001b[0m\u001b[0;34m]\u001b[0m\u001b[0;34m\u001b[0m\u001b[0;34m\u001b[0m\u001b[0m\n\u001b[0;32m----> 7\u001b[0;31m \u001b[0mX\u001b[0m \u001b[0;34m=\u001b[0m \u001b[0mtorch\u001b[0m\u001b[0;34m.\u001b[0m\u001b[0mstack\u001b[0m\u001b[0;34m(\u001b[0m\u001b[0mtensor_list\u001b[0m\u001b[0;34m)\u001b[0m\u001b[0;34m\u001b[0m\u001b[0;34m\u001b[0m\u001b[0m\n\u001b[0m\u001b[1;32m      8\u001b[0m \u001b[0;34m\u001b[0m\u001b[0m\n\u001b[1;32m      9\u001b[0m '''\n",
            "\u001b[0;31mRuntimeError\u001b[0m: stack expects a non-empty TensorList"
          ]
        }
      ]
    },
    {
      "cell_type": "markdown",
      "source": [
        "Now let's train the model."
      ],
      "metadata": {
        "id": "wHhD149OBpsr"
      }
    },
    {
      "cell_type": "code",
      "source": [
        "criterion = nn.L1Loss() # This is the same as MAE, and is standard for brain age\n",
        "optimizer = optim.Adam(model.parameters(), lr=0.001) # ubiquitious basically everywhere\n",
        "\n",
        "train_loader = DataLoader(np.load(), batch_size=1, shuffle=True)\n",
        "\n",
        "num_epochs = 10\n",
        "\n",
        "for epoch in range(num_epochs):\n",
        "    train_loss, train_acc = train(model, train_loader, criterion, optimizer, device) # recall that device was the whole bit about cuda before\n",
        "    test_loss, test_acc = test(model, test_loader, criterion, device)\n",
        "\n",
        "    print(f\"Epoch {epoch+1}/{num_epochs}\")\n",
        "    print(f\"Train Loss: {train_loss:.4f}, Train Accuracy: {train_acc:.4f}\")\n",
        "    print(f\"Test Loss: {test_loss:.4f}, Test Accuracy: {test_acc:.4f}\\n\")"
      ],
      "metadata": {
        "id": "qnSN1lTWBp1S"
      },
      "execution_count": null,
      "outputs": []
    },
    {
      "cell_type": "markdown",
      "source": [
        "Unsuprisingly, given we are using a single piece of fake data, it doesn't do very well. And we haven't even tested it! Regardless, these are the basic steps for developing a CNN for brain age."
      ],
      "metadata": {
        "id": "cKCh8iIxGMxO"
      }
    },
    {
      "cell_type": "markdown",
      "source": [
        "--------------------------------------------------------------------------------\n",
        "--------------------------------------------------------------------------------\n",
        "--------------------------------------------------------------------------------"
      ],
      "metadata": {
        "id": "W-Wwfdi7Jk4P"
      }
    },
    {
      "cell_type": "markdown",
      "source": [
        "Deep Learning Analysis Example 2: graphSAGE using the cortex files"
      ],
      "metadata": {
        "id": "DyRUo78ITvTm"
      }
    },
    {
      "cell_type": "markdown",
      "source": [
        "The .pial files (one for each hemisphere) represent the geometric vertices and faces (i.e. the connections between vertices) for each individual's cortex. Freesurfer also provides other files, such as the cortical thickness (.thickness) and white-grey matter intensity ratio (.w-g.pct.mgh) which provide information on each of these vertices."
      ],
      "metadata": {
        "id": "mx4gPtd-UEJn"
      }
    },
    {
      "cell_type": "markdown",
      "source": [
        "We can use these files in conjunction to construct a graph of each individual's brain, with vertices serving as nodes, faces serving as edges, and attributes serving as features."
      ],
      "metadata": {
        "id": "4ovqH7T2V6H1"
      }
    },
    {
      "cell_type": "code",
      "source": [
        "# get each subject (only one here)\n",
        "subj_files = glob.glob(f'{recon_path}')\n",
        "\n",
        "# load in the pial files\n",
        "pial_files = glob.glob(f'{recon_path}/surf/*h.pial') # *h because we want both hemispheres\n",
        "\n",
        "# load in the thickness files\n",
        "thickness_files = glob.glob(f'{recon_path}/surf/*h.thickness')\n",
        "\n",
        "# load in the white-grey matter intensity ratio files\n",
        "wg_ratio_files = glob.glob(f'{recon_path}/surf/*h.w-g.pct.mgh')\n",
        "\n",
        "# glob uses a random sort order, so we sort alphabetically to match everything\n",
        "subj_files = sorted(subj_files)\n",
        "pial_files = sorted(pial_files)\n",
        "thickness_files = sorted(thickness_files)\n",
        "wg_ratio_files = sorted(wg_ratio_files)\n",
        "\n",
        "# make a dictionary for the training data (we will make it structured as: subjects -> nodes -> features/edges)\n",
        "training_data = {}\n",
        "\n",
        "# make a dictionary for the edge indices\n",
        "edge_indices = {}\n",
        "\n",
        "# loop through the subjects to construct the desired dictionaries\n",
        "for i, subj in enumerate(subj_files): # since we only have on subject, this only runs once\n",
        "\n",
        "  # get the last part of the path\n",
        "  subj_id = subj.split('/')[-1]\n",
        "\n",
        "  # get the vertice and face data for the subject\n",
        "  lh_vertices, lh_faces = nib.freesurfer.read_geometry(pial_files[i]) # we know lh is before rh because we sorted alphabetically\n",
        "  rh_vertices, rh_faces = nib.freesurfer.read_geometry(pial_files[i+1])\n",
        "\n",
        "  # combine them into a single array\n",
        "  vertices = np.vstack((lh_vertices, rh_vertices+(np.max(lh_vertices)+1))) # vertices uses relative node index (min=0), so we need to account for this\n",
        "\n",
        "  # do the same for every other file type\n",
        "  lh_thickness = nib.freesurfer.io.read_morph_data(thickness_files[i]) # be mindful of which nib reading varient to use\n",
        "  rh_thickness = nib.freesurfer.io.read_morph_data(thickness_files[i+1])\n",
        "  thickness = np.hstack((lh_thickness, rh_thickness)) # not relative, notice the use of h-stack for single-dimension variables\n",
        "  #\n",
        "  lh_ratio = nib.load(wg_ratio_files[i]).get_fdata()\n",
        "  rh_ratio = nib.load(wg_ratio_files[i+1]).get_fdata()\n",
        "  ratio = np.vstack((lh_ratio, rh_ratio)) # not relative\n",
        "  ratio = ratio.squeeze() # this has dimensions (n_nodes, 1, 1) otherwise\n",
        "\n",
        "  # create a node for each vertice and a seperate list for the edges\n",
        "  training_data[subj_id] = [[] for _ in range(vertices.shape[0])]\n",
        "\n",
        "  # for each node add the corresponding features\n",
        "  for n, node in enumerate(training_data[subj_id]):\n",
        "    node.extend(vertices[n, :])\n",
        "    node.append(thickness[n])\n",
        "    node.append(ratio[n])\n",
        "\n",
        "  # additionally, get the faces of the each subject as an edge index\n",
        "  faces = np.vstack((lh_faces, rh_faces+(np.max(lh_faces)+1))) # recall that we got the faces from the pial files, which use relative indexing\n",
        "  edge_index = []\n",
        "\n",
        "  # loop through the faces and create 2-dimensional representation\n",
        "  # these edges are undirected and thus should include both directions\n",
        "  for face in faces:\n",
        "      edges = [\n",
        "          (face[i], face[j])\n",
        "          for i in range(3)\n",
        "          for j in range(i + 1, 3)\n",
        "      ]\n",
        "      edge_index.extend(edges)\n",
        "  edge_index = np.array(edge_index).T\n",
        "  edge_indices[subj_id] = edge_index\n",
        "\n",
        "# get the size of each sub-structure\n",
        "num_subjects = len(training_data)\n",
        "num_nodes = len(next(iter(training_data.values())))\n",
        "num_values = len(next(iter(next(iter(training_data.values())))))\n",
        "num_edges = edge_indices[subj_id].shape[1]\n",
        "\n",
        "print(\"Number of subjects:\", num_subjects)\n",
        "print(\"Number of nodes (in subject 1):\", num_nodes)\n",
        "print(\"Number of features:\", num_values) # recall that spatial position is 3 features: x, y, and z\n",
        "print(\"Number of num_edges (in subject 1):\", num_edges)"
      ],
      "metadata": {
        "id": "q0lSPu1NT3nS",
        "colab": {
          "base_uri": "https://localhost:8080/"
        },
        "outputId": "7779694e-50a1-45f1-a51f-850ceb05deb5"
      },
      "execution_count": null,
      "outputs": [
        {
          "output_type": "stream",
          "name": "stdout",
          "text": [
            "Number of subjects: 1\n",
            "Number of nodes (in subject 1): 320845\n",
            "Number of features: 5\n",
            "Number of num_edges (in subject 1): 1925046\n"
          ]
        }
      ]
    },
    {
      "cell_type": "markdown",
      "source": [
        "The next step is to get the data regarding participant ages, or whatever it is that we want to predict. Many datasets will include \"demographic.csv\" or \"metadata.csv\" files, but sometimes they won't. In these cases, we need to extract the metadata from the original DICOM files."
      ],
      "metadata": {
        "id": "bMQJ1xCBLbk3"
      }
    },
    {
      "cell_type": "markdown",
      "source": [
        "We can reasonably expect that every DICOM for a given subject will have the same demographic information within its metadata, so we only need to look at any random DICOM file for each subject. Let's take a look at the metadata."
      ],
      "metadata": {
        "id": "2kp5-CSYNA-K"
      }
    },
    {
      "cell_type": "code",
      "source": [
        "# select all subject folders (only one in this case)\n",
        "dicom_paths = glob.glob('/content/example-dicom-structural/*/')\n",
        "\n",
        "for path in dicom_paths:\n",
        "\n",
        "  # select an arbitray DICOM file within the subject folder\n",
        "  subj_dicoms = glob.glob(f'{path}/*')\n",
        "  target_dicom = subj_dicoms[0] # 0 is arbitrary\n",
        "\n",
        "  # get the metadata\n",
        "  metadata = pydicom.dcmread(target_dicom)\n",
        "\n",
        "  # print out all of the metadata\n",
        "  for elem in metadata.iterall():\n",
        "    print(elem)"
      ],
      "metadata": {
        "id": "ML6M8rJcLplK",
        "outputId": "688289a3-4cb2-41b8-f446-6a33ec953510",
        "colab": {
          "base_uri": "https://localhost:8080/"
        }
      },
      "execution_count": null,
      "outputs": [
        {
          "output_type": "stream",
          "name": "stdout",
          "text": [
            "(0008,0008) Image Type                          CS: ['DERIVED', 'SECONDARY']\n",
            "(0008,0016) SOP Class UID                       UI: MR Image Storage\n",
            "(0008,0018) SOP Instance UID                    UI: 1.2.826.0.1.3680043.2.1143.7980170295326065434086375780975261994\n",
            "(0008,0020) Study Date                          DA: '20130717'\n",
            "(0008,0021) Series Date                         DA: '20130717'\n",
            "(0008,0022) Acquisition Date                    DA: '20130717'\n",
            "(0008,0023) Content Date                        DA: '20130717'\n",
            "(0008,0030) Study Time                          TM: '141500'\n",
            "(0008,0031) Series Time                         TM: '142035.93000'\n",
            "(0008,0032) Acquisition Time                    TM: '132518'\n",
            "(0008,0033) Content Time                        TM: '142035.93'\n",
            "(0008,0050) Accession Number                    SH: ''\n",
            "(0008,0060) Modality                            CS: 'MR'\n",
            "(0008,0070) Manufacturer                        LO: 'BIOLAB'\n",
            "(0008,0080) Institution Name                    LO: ''\n",
            "(0008,0090) Referring Physician's Name          PN: ''\n",
            "(0008,1030) Study Description                   LO: 'Hanke_Stadler^0024_transrep'\n",
            "(0008,103E) Series Description                  LO: 'anat-T1w'\n",
            "(0008,1090) Manufacturer's Model Name           LO: 'nifti2dicom'\n",
            "(0010,0010) Patient's Name                      PN: 'Jane_Doe'\n",
            "(0010,0020) Patient ID                          LO: '02'\n",
            "(0010,0030) Patient's Birth Date                DA: '19660101'\n",
            "(0010,0040) Patient's Sex                       CS: 'F'\n",
            "(0010,1000) Other Patient IDs                   LO: ''\n",
            "(0010,1010) Patient's Age                       AS: '42'\n",
            "(0010,1030) Patient's Weight                    DS: '75'\n",
            "(0010,21C0) Pregnancy Status                    US: 4\n",
            "(0018,0050) Slice Thickness                     DS: '0.666666686534882'\n",
            "(0018,0088) Spacing Between Slices              DS: '0.666666686534882'\n",
            "(0018,1020) Software Versions                   LO: '0.4.11'\n",
            "(0018,1030) Protocol Name                       LO: 'anat-T1w'\n",
            "(0020,000D) Study Instance UID                  UI: 1.2.826.0.1.3680043.2.1143.2592092611698916978113112155415165916\n",
            "(0020,000E) Series Instance UID                 UI: 1.2.826.0.1.3680043.2.1143.515404396022363061013111326823367652\n",
            "(0020,0010) Study ID                            SH: '433724515'\n",
            "(0020,0011) Series Number                       IS: '401'\n",
            "(0020,0012) Acquisition Number                  IS: '1'\n",
            "(0020,0013) Instance Number                     IS: '331'\n",
            "(0020,0020) Patient Orientation                 CS: ['L', 'R']\n",
            "(0020,0032) Image Position (Patient)            DS: [-99.1697609490145, -131.695024976157, 75.5215973954361]\n",
            "(0020,0037) Image Orientation (Patient)         DS: [0.999032176441525, -0.0217883751691557, 0.0382096472372976, 0.026519476938784, 0.991413870277297, -0.128043957939]\n",
            "(0020,0052) Frame of Reference UID              UI: 1.2.826.0.1.3680043.2.1143.6856184167807409206647724161920598374\n",
            "(0028,0002) Samples per Pixel                   US: 1\n",
            "(0028,0004) Photometric Interpretation          CS: 'MONOCHROME2'\n",
            "(0028,0010) Rows                                US: 384\n",
            "(0028,0011) Columns                             US: 274\n",
            "(0028,0030) Pixel Spacing                       DS: [0.666666686534882, 0.699987828731537]\n",
            "(0028,0100) Bits Allocated                      US: 16\n",
            "(0028,0101) Bits Stored                         US: 16\n",
            "(0028,0102) High Bit                            US: 15\n",
            "(0028,0103) Pixel Representation                US: 1\n",
            "(0028,1052) Rescale Intercept                   DS: '0'\n",
            "(0028,1053) Rescale Slope                       DS: '1'\n",
            "(0028,1054) Rescale Type                        LO: 'US'\n",
            "(7FE0,0010) Pixel Data                          OW: Array of 210432 elements\n"
          ]
        }
      ]
    },
    {
      "cell_type": "markdown",
      "source": [
        "We can see that patient age is present. Our next step is to construct a loop that assembles the patient ages to line up correctly with the feature data."
      ],
      "metadata": {
        "id": "qcmtAzLWRanV"
      }
    },
    {
      "cell_type": "code",
      "source": [
        "# select all subject folders (only one in this case)\n",
        "dicom_paths = glob.glob('/content/example-dicom-structural/*/')\n",
        "\n",
        "# SORT the dicom paths. This is essential to making sure that the data is aligned.\n",
        "# By sorting across all usages of glob we can make sure our results are consistent.\n",
        "dicom_paths = sorted(dicom_paths)\n",
        "\n",
        "# create a list for all of the subjects\n",
        "ages = []\n",
        "\n",
        "for path in dicom_paths:\n",
        "\n",
        "  # select an arbitray DICOM file within the subject folder\n",
        "  subj_dicoms = glob.glob(f'{path}/*')\n",
        "  target_dicom = subj_dicoms[0] # 0 is arbitrary\n",
        "\n",
        "  # get the metadata\n",
        "  metadata = pydicom.dcmread(target_dicom)\n",
        "\n",
        "  # get the age and add it to the list for all subjects\n",
        "  age = metadata[(0x0010, 0x1010)].value\n",
        "\n",
        "  # typically, age will be in the format str('55Y'),\n",
        "  # but it varies by dataset. Here, it is simply str('55')\n",
        "  ages.append(int(age))\n",
        "\n",
        "print(ages)"
      ],
      "metadata": {
        "id": "VOeNlc77RlZs",
        "outputId": "7d0928ca-21a1-4322-9eac-1f4cc77cc77e",
        "colab": {
          "base_uri": "https://localhost:8080/"
        }
      },
      "execution_count": null,
      "outputs": [
        {
          "output_type": "stream",
          "name": "stdout",
          "text": [
            "[42]\n"
          ]
        }
      ]
    },
    {
      "cell_type": "markdown",
      "source": [
        "Now lets get the relevant dependencies for the next steps (formatting the data then training a model using graphSAGE)."
      ],
      "metadata": {
        "id": "aJtOp28oScjQ"
      }
    },
    {
      "cell_type": "code",
      "source": [
        "!pip install torch-geometric\n",
        "\n",
        "import torch\n",
        "import torch.nn.functional as F\n",
        "from torch_geometric.nn import SAGEConv\n",
        "from torch_geometric.data import Data, DataLoader"
      ],
      "metadata": {
        "colab": {
          "base_uri": "https://localhost:8080/"
        },
        "id": "ThCKqAYUccoV",
        "outputId": "635f8165-9417-4aed-d172-af777ec2b8e0"
      },
      "execution_count": null,
      "outputs": [
        {
          "output_type": "stream",
          "name": "stdout",
          "text": [
            "Requirement already satisfied: torch-geometric in /usr/local/lib/python3.10/dist-packages (2.6.1)\n",
            "Requirement already satisfied: aiohttp in /usr/local/lib/python3.10/dist-packages (from torch-geometric) (3.10.10)\n",
            "Requirement already satisfied: fsspec in /usr/local/lib/python3.10/dist-packages (from torch-geometric) (2024.6.1)\n",
            "Requirement already satisfied: jinja2 in /usr/local/lib/python3.10/dist-packages (from torch-geometric) (3.1.4)\n",
            "Requirement already satisfied: numpy in /usr/local/lib/python3.10/dist-packages (from torch-geometric) (1.26.4)\n",
            "Requirement already satisfied: psutil>=5.8.0 in /usr/local/lib/python3.10/dist-packages (from torch-geometric) (5.9.5)\n",
            "Requirement already satisfied: pyparsing in /usr/local/lib/python3.10/dist-packages (from torch-geometric) (3.2.0)\n",
            "Requirement already satisfied: requests in /usr/local/lib/python3.10/dist-packages (from torch-geometric) (2.32.3)\n",
            "Requirement already satisfied: tqdm in /usr/local/lib/python3.10/dist-packages (from torch-geometric) (4.66.5)\n",
            "Requirement already satisfied: aiohappyeyeballs>=2.3.0 in /usr/local/lib/python3.10/dist-packages (from aiohttp->torch-geometric) (2.4.3)\n",
            "Requirement already satisfied: aiosignal>=1.1.2 in /usr/local/lib/python3.10/dist-packages (from aiohttp->torch-geometric) (1.3.1)\n",
            "Requirement already satisfied: attrs>=17.3.0 in /usr/local/lib/python3.10/dist-packages (from aiohttp->torch-geometric) (24.2.0)\n",
            "Requirement already satisfied: frozenlist>=1.1.1 in /usr/local/lib/python3.10/dist-packages (from aiohttp->torch-geometric) (1.4.1)\n",
            "Requirement already satisfied: multidict<7.0,>=4.5 in /usr/local/lib/python3.10/dist-packages (from aiohttp->torch-geometric) (6.1.0)\n",
            "Requirement already satisfied: yarl<2.0,>=1.12.0 in /usr/local/lib/python3.10/dist-packages (from aiohttp->torch-geometric) (1.16.0)\n",
            "Requirement already satisfied: async-timeout<5.0,>=4.0 in /usr/local/lib/python3.10/dist-packages (from aiohttp->torch-geometric) (4.0.3)\n",
            "Requirement already satisfied: MarkupSafe>=2.0 in /usr/local/lib/python3.10/dist-packages (from jinja2->torch-geometric) (3.0.2)\n",
            "Requirement already satisfied: charset-normalizer<4,>=2 in /usr/local/lib/python3.10/dist-packages (from requests->torch-geometric) (3.4.0)\n",
            "Requirement already satisfied: idna<4,>=2.5 in /usr/local/lib/python3.10/dist-packages (from requests->torch-geometric) (3.10)\n",
            "Requirement already satisfied: urllib3<3,>=1.21.1 in /usr/local/lib/python3.10/dist-packages (from requests->torch-geometric) (2.2.3)\n",
            "Requirement already satisfied: certifi>=2017.4.17 in /usr/local/lib/python3.10/dist-packages (from requests->torch-geometric) (2024.8.30)\n",
            "Requirement already satisfied: typing-extensions>=4.1.0 in /usr/local/lib/python3.10/dist-packages (from multidict<7.0,>=4.5->aiohttp->torch-geometric) (4.12.2)\n",
            "Requirement already satisfied: propcache>=0.2.0 in /usr/local/lib/python3.10/dist-packages (from yarl<2.0,>=1.12.0->aiohttp->torch-geometric) (0.2.0)\n"
          ]
        }
      ]
    },
    {
      "cell_type": "markdown",
      "source": [
        "Format the Data and Batch objects in accordance with PyTorch Geometric's specifications. We do this by creating a unique Data object for each subject and adding this to a list, with this list then being used to create a Batch object for training."
      ],
      "metadata": {
        "id": "CVvRt4bJce0l"
      }
    },
    {
      "cell_type": "code",
      "source": [
        "# create an empty list to store the subject data\n",
        "data_list = []\n",
        "\n",
        "for subject, features in training_data.items():\n",
        "    # convert the node features to a tensor\n",
        "    x = torch.tensor(features, dtype=torch.float)\n",
        "\n",
        "    # convert the edge indices array directly to a tensor\n",
        "    edge_index = torch.tensor(edge_indices[subject], dtype=torch.long)\n",
        "\n",
        "    # create the Data object and add it to the list\n",
        "    data = Data(x=x, edge_index=edge_index)\n",
        "    data_list.append(data)\n",
        "\n",
        "# create the batch object\n",
        "batch = Batch.from_data_list(data_list)\n",
        "batch"
      ],
      "metadata": {
        "colab": {
          "base_uri": "https://localhost:8080/"
        },
        "id": "oeShWw-oLTnE",
        "outputId": "5095d939-3b69-4ae2-ba9a-a181d72318cb"
      },
      "execution_count": null,
      "outputs": [
        {
          "output_type": "execute_result",
          "data": {
            "text/plain": [
              "DataBatch(x=[320845, 5], edge_index=[2, 1925046], batch=[320845], ptr=[2])"
            ]
          },
          "metadata": {},
          "execution_count": 27
        }
      ]
    },
    {
      "cell_type": "markdown",
      "source": [
        "Now lets create a rudimentary GNN using graphSAGE. Certain architectures, such as a GAT, would require us to project the vertices of the subjects to a common space. This can be done using freesurfer's mri_surf2surf."
      ],
      "metadata": {
        "id": "1gYnnLUSfgDF"
      }
    },
    {
      "cell_type": "code",
      "source": [
        "class GraphSAGE(torch.nn.Module):\n",
        "    def __init__(self, in_channels, hidden_channels, out_channels):\n",
        "        super(GraphSAGE, self).__init__()\n",
        "        self.conv1 = SAGEConv(in_channels, hidden_channels)\n",
        "        self.conv2 = SAGEConv(hidden_channels, out_channels)\n",
        "\n",
        "    def forward(self, x, edge_index):\n",
        "        x = self.conv1(x, edge_index)\n",
        "        x = F.relu(x)\n",
        "        x = self.conv2(x, edge_index)\n",
        "        return x"
      ],
      "metadata": {
        "id": "FEzXxcpMffkL"
      },
      "execution_count": null,
      "outputs": []
    },
    {
      "cell_type": "markdown",
      "source": [
        "Now lets create a basic training loop for our model\n"
      ],
      "metadata": {
        "id": "HEe-eaznnj0j"
      }
    },
    {
      "cell_type": "code",
      "source": [
        "def train(model, data_loader, epochs, lr=0.01, device='cuda'):\n",
        "\n",
        "    optimizer = optim.Adam(model.parameters(), lr=lr) # essentially ubiquitious\n",
        "    model.to(device)\n",
        "\n",
        "    for epoch in range(epochs):\n",
        "        model.train()\n",
        "        total_loss = 0\n",
        "\n",
        "        for data in data_loader:\n",
        "            data = data.to(device)  # Move the data to the correct device\n",
        "            optimizer.zero_grad()\n",
        "\n",
        "            # Forward pass\n",
        "            out = model(data.x, data.edge_index)  # Assuming data.x is node features and data.edge_index is adjacency list\n",
        "            loss = model.loss(out, data.y)  # Assuming the model has a loss method for supervised tasks\n",
        "\n",
        "            # Backward pass\n",
        "            loss.backward()\n",
        "            optimizer.step()\n",
        "\n",
        "            total_loss += loss.item()\n",
        "\n",
        "        print(f\"Epoch {epoch+1}/{epochs}, Loss: {total_loss/len(data_loader)}\")"
      ],
      "metadata": {
        "id": "2O8jpjEBnpRN"
      },
      "execution_count": null,
      "outputs": []
    }
  ],
  "metadata": {
    "language_info": {
      "name": "python"
    },
    "colab": {
      "provenance": []
    },
    "kernelspec": {
      "name": "python3",
      "display_name": "Python 3"
    }
  },
  "nbformat": 4,
  "nbformat_minor": 0
}